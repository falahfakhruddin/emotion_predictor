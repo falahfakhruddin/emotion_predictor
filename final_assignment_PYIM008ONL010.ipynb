{
  "nbformat": 4,
  "nbformat_minor": 0,
  "metadata": {
    "colab": {
      "name": "final_assignment_PYIM008ONL010.ipynb",
      "provenance": []
    },
    "kernelspec": {
      "name": "python3",
      "display_name": "Python 3"
    },
    "language_info": {
      "name": "python"
    },
    "accelerator": "GPU"
  },
  "cells": [
    {
      "cell_type": "markdown",
      "metadata": {
        "id": "-y2TMWbwC9a6"
      },
      "source": [
        "**IMPORT LIBRARY & LOAD DATA**"
      ]
    },
    {
      "cell_type": "code",
      "metadata": {
        "id": "IRFgfJNfDKsC"
      },
      "source": [
        "#Standard Library\n",
        "import pandas as pd\n",
        "import matplotlib.pyplot as plt\n",
        "import seaborn as sn\n",
        "import numpy as np\n",
        "\n",
        "#Deeplearning Library\n",
        "import tensorflow as tf\n",
        "from tensorflow.keras.models import Sequential\n",
        "from tensorflow.keras.layers import Embedding, LSTM, Dense, Dropout\n",
        "from tensorflow.keras.preprocessing.text import Tokenizer\n",
        "from tensorflow.keras.preprocessing.sequence import pad_sequences\n",
        "\n",
        "#Additional\n",
        "from collections import Counter\n",
        "import pickle\n"
      ],
      "execution_count": 1,
      "outputs": []
    },
    {
      "cell_type": "markdown",
      "metadata": {
        "id": "4c-yA-xyDzsm"
      },
      "source": [
        "Load data from my own drive. Please upload data to your drive first. You can get the data here: https://drive.google.com/drive/folders/1ZUKlJRVNA7LlOpWMZFkSElPakjZWG6bZ?usp=sharing"
      ]
    },
    {
      "cell_type": "code",
      "metadata": {
        "colab": {
          "base_uri": "https://localhost:8080/"
        },
        "id": "_bNZEHSyCznL",
        "outputId": "06c98566-5a98-49ba-8f8e-09ce2ec18bf1"
      },
      "source": [
        "#Mounting drive\n",
        "from google.colab import drive\n",
        "drive.mount('/gdrive')"
      ],
      "execution_count": 2,
      "outputs": [
        {
          "output_type": "stream",
          "text": [
            "Mounted at /gdrive\n"
          ],
          "name": "stdout"
        }
      ]
    },
    {
      "cell_type": "code",
      "metadata": {
        "id": "7crxTYdcD57j"
      },
      "source": [
        "#Load data\n",
        "df_train = pd.read_csv('../gdrive/MyDrive/emotion_detection/train.txt', header =None, sep =';', names = ['Input','Sentiment'], encoding='utf-8')\n",
        "df_test = pd.read_csv('../gdrive/MyDrive/emotion_detection/test.txt', header = None, sep =';', names = ['Input','Sentiment'],encoding='utf-8')\n",
        "df_val=pd.read_csv('../gdrive/MyDrive/emotion_detection/val.txt',header=None,sep=';',names=['Input','Sentiment'],encoding='utf-8')"
      ],
      "execution_count": 3,
      "outputs": []
    },
    {
      "cell_type": "markdown",
      "metadata": {
        "id": "5lOoKGnqGIdO"
      },
      "source": [
        "**EXPLANATORY ANALYSIS**"
      ]
    },
    {
      "cell_type": "code",
      "metadata": {
        "colab": {
          "base_uri": "https://localhost:8080/",
          "height": 315
        },
        "id": "g928uxBRGPQt",
        "outputId": "797279f5-6a81-4387-d994-7c0097e0ed53"
      },
      "source": [
        "df_train.Sentiment.value_counts().plot.bar()"
      ],
      "execution_count": 4,
      "outputs": [
        {
          "output_type": "execute_result",
          "data": {
            "text/plain": [
              "<matplotlib.axes._subplots.AxesSubplot at 0x7ff80c8ab390>"
            ]
          },
          "metadata": {
            "tags": []
          },
          "execution_count": 4
        },
        {
          "output_type": "display_data",
          "data": {
            "image/png": "[encoded data removed]",
            "text/plain": [
              "<Figure size 432x288 with 1 Axes>"
            ]
          },
          "metadata": {
            "tags": [],
            "needs_background": "light"
          }
        }
      ]
    },
    {
      "cell_type": "markdown",
      "metadata": {
        "id": "e41aiCrqEEDO"
      },
      "source": [
        "As you can see, the number of data with \"Surprise\" label is quite small (<1000). It will affect the result (and it is indeed, because i've tried it several times before, and the confusion rate for \"Surprise\" class is quite high). Therefore, I will cut it from all the data."
      ]
    },
    {
      "cell_type": "code",
      "metadata": {
        "colab": {
          "base_uri": "https://localhost:8080/",
          "height": 315
        },
        "id": "7HVfAFeyECVV",
        "outputId": "4ad6b578-4a7d-4252-c64f-ac0db41eaf56"
      },
      "source": [
        "df_train = df_train[df_train.Sentiment != \"surprise\"].reset_index()\n",
        "df_val = df_val[df_val.Sentiment != \"surprise\"].reset_index()\n",
        "df_test = df_test[df_test.Sentiment != \"surprise\"].reset_index()\n",
        "\n",
        "df_train.Sentiment.value_counts().plot.bar()"
      ],
      "execution_count": 5,
      "outputs": [
        {
          "output_type": "execute_result",
          "data": {
            "text/plain": [
              "<matplotlib.axes._subplots.AxesSubplot at 0x7ff80c7900d0>"
            ]
          },
          "metadata": {
            "tags": []
          },
          "execution_count": 5
        },
        {
          "output_type": "display_data",
          "data": {
            "image/png": "[encoded data removed]",
            "text/plain": [
              "<Figure size 432x288 with 1 Axes>"
            ]
          },
          "metadata": {
            "tags": [],
            "needs_background": "light"
          }
        }
      ]
    },
    {
      "cell_type": "code",
      "metadata": {
        "colab": {
          "base_uri": "https://localhost:8080/",
          "height": 362
        },
        "id": "UVBr4naNFY-8",
        "outputId": "330f3b1e-8130-4f7d-e7bc-c0f94f33699f"
      },
      "source": [
        "df_train.head(10)"
      ],
      "execution_count": 6,
      "outputs": [
        {
          "output_type": "execute_result",
          "data": {
            "text/html": [
              "<div>\n",
              "<style scoped>\n",
              "    .dataframe tbody tr th:only-of-type {\n",
              "        vertical-align: middle;\n",
              "    }\n",
              "\n",
              "    .dataframe tbody tr th {\n",
              "        vertical-align: top;\n",
              "    }\n",
              "\n",
              "    .dataframe thead th {\n",
              "        text-align: right;\n",
              "    }\n",
              "</style>\n",
              "<table border=\"1\" class=\"dataframe\">\n",
              "  <thead>\n",
              "    <tr style=\"text-align: right;\">\n",
              "      <th></th>\n",
              "      <th>index</th>\n",
              "      <th>Input</th>\n",
              "      <th>Sentiment</th>\n",
              "    </tr>\n",
              "  </thead>\n",
              "  <tbody>\n",
              "    <tr>\n",
              "      <th>0</th>\n",
              "      <td>0</td>\n",
              "      <td>i didnt feel humiliated</td>\n",
              "      <td>sadness</td>\n",
              "    </tr>\n",
              "    <tr>\n",
              "      <th>1</th>\n",
              "      <td>1</td>\n",
              "      <td>i can go from feeling so hopeless to so damned...</td>\n",
              "      <td>sadness</td>\n",
              "    </tr>\n",
              "    <tr>\n",
              "      <th>2</th>\n",
              "      <td>2</td>\n",
              "      <td>im grabbing a minute to post i feel greedy wrong</td>\n",
              "      <td>anger</td>\n",
              "    </tr>\n",
              "    <tr>\n",
              "      <th>3</th>\n",
              "      <td>3</td>\n",
              "      <td>i am ever feeling nostalgic about the fireplac...</td>\n",
              "      <td>love</td>\n",
              "    </tr>\n",
              "    <tr>\n",
              "      <th>4</th>\n",
              "      <td>4</td>\n",
              "      <td>i am feeling grouchy</td>\n",
              "      <td>anger</td>\n",
              "    </tr>\n",
              "    <tr>\n",
              "      <th>5</th>\n",
              "      <td>5</td>\n",
              "      <td>ive been feeling a little burdened lately wasn...</td>\n",
              "      <td>sadness</td>\n",
              "    </tr>\n",
              "    <tr>\n",
              "      <th>6</th>\n",
              "      <td>7</td>\n",
              "      <td>i feel as confused about life as a teenager or...</td>\n",
              "      <td>fear</td>\n",
              "    </tr>\n",
              "    <tr>\n",
              "      <th>7</th>\n",
              "      <td>8</td>\n",
              "      <td>i have been with petronas for years i feel tha...</td>\n",
              "      <td>joy</td>\n",
              "    </tr>\n",
              "    <tr>\n",
              "      <th>8</th>\n",
              "      <td>9</td>\n",
              "      <td>i feel romantic too</td>\n",
              "      <td>love</td>\n",
              "    </tr>\n",
              "    <tr>\n",
              "      <th>9</th>\n",
              "      <td>10</td>\n",
              "      <td>i feel like i have to make the suffering i m s...</td>\n",
              "      <td>sadness</td>\n",
              "    </tr>\n",
              "  </tbody>\n",
              "</table>\n",
              "</div>"
            ],
            "text/plain": [
              "   index                                              Input Sentiment\n",
              "0      0                            i didnt feel humiliated   sadness\n",
              "1      1  i can go from feeling so hopeless to so damned...   sadness\n",
              "2      2   im grabbing a minute to post i feel greedy wrong     anger\n",
              "3      3  i am ever feeling nostalgic about the fireplac...      love\n",
              "4      4                               i am feeling grouchy     anger\n",
              "5      5  ive been feeling a little burdened lately wasn...   sadness\n",
              "6      7  i feel as confused about life as a teenager or...      fear\n",
              "7      8  i have been with petronas for years i feel tha...       joy\n",
              "8      9                                i feel romantic too      love\n",
              "9     10  i feel like i have to make the suffering i m s...   sadness"
            ]
          },
          "metadata": {
            "tags": []
          },
          "execution_count": 6
        }
      ]
    },
    {
      "cell_type": "markdown",
      "metadata": {
        "id": "Cm5ADR0KFoGT"
      },
      "source": [
        "Convert Category to Integer"
      ]
    },
    {
      "cell_type": "code",
      "metadata": {
        "id": "tW64S6bMFdZE"
      },
      "source": [
        "df_train['sent_cat']=df_train.Sentiment.replace({'joy':0,'anger':1,'love':2,'sadness':3,'fear':4})\n",
        "df_val['sent_cat']=df_val.Sentiment.replace({'joy':0,'anger':1,'love':2,'sadness':3,'fear':4})\n",
        "df_test['sent_cat']=df_test.Sentiment.replace({'joy':0,'anger':1,'love':2,'sadness':3,'fear':4})\n",
        "\n",
        "x_train = df_train['Input']\n",
        "y_train = df_train['sent_cat']\n",
        "\n",
        "x_val = df_val['Input']\n",
        "y_val = df_val['sent_cat']\n",
        "\n",
        "x_test = df_test['Input']\n",
        "y_test = df_test['sent_cat']"
      ],
      "execution_count": 7,
      "outputs": []
    },
    {
      "cell_type": "markdown",
      "metadata": {
        "id": "DkOD6lTPGWbn"
      },
      "source": [
        "**DATA VECTORIZATION**"
      ]
    },
    {
      "cell_type": "code",
      "metadata": {
        "colab": {
          "base_uri": "https://localhost:8080/",
          "height": 299
        },
        "id": "fW5SG1_3Ft2r",
        "outputId": "4f874e12-5364-45d4-988b-bb8ac346b516"
      },
      "source": [
        "#Check optimum sentence length\n",
        "def check_length(x):\n",
        "  lst=[]\n",
        "  for i in x:\n",
        "    lst.append(len(i))\n",
        "    len1=pd.DataFrame(lst)\n",
        "  return len1.describe()\n",
        "check_length(x_train)"
      ],
      "execution_count": 8,
      "outputs": [
        {
          "output_type": "execute_result",
          "data": {
            "text/html": [
              "<div>\n",
              "<style scoped>\n",
              "    .dataframe tbody tr th:only-of-type {\n",
              "        vertical-align: middle;\n",
              "    }\n",
              "\n",
              "    .dataframe tbody tr th {\n",
              "        vertical-align: top;\n",
              "    }\n",
              "\n",
              "    .dataframe thead th {\n",
              "        text-align: right;\n",
              "    }\n",
              "</style>\n",
              "<table border=\"1\" class=\"dataframe\">\n",
              "  <thead>\n",
              "    <tr style=\"text-align: right;\">\n",
              "      <th></th>\n",
              "      <th>0</th>\n",
              "    </tr>\n",
              "  </thead>\n",
              "  <tbody>\n",
              "    <tr>\n",
              "      <th>count</th>\n",
              "      <td>15428.000000</td>\n",
              "    </tr>\n",
              "    <tr>\n",
              "      <th>mean</th>\n",
              "      <td>96.666710</td>\n",
              "    </tr>\n",
              "    <tr>\n",
              "      <th>std</th>\n",
              "      <td>55.848488</td>\n",
              "    </tr>\n",
              "    <tr>\n",
              "      <th>min</th>\n",
              "      <td>7.000000</td>\n",
              "    </tr>\n",
              "    <tr>\n",
              "      <th>25%</th>\n",
              "      <td>53.000000</td>\n",
              "    </tr>\n",
              "    <tr>\n",
              "      <th>50%</th>\n",
              "      <td>86.000000</td>\n",
              "    </tr>\n",
              "    <tr>\n",
              "      <th>75%</th>\n",
              "      <td>129.000000</td>\n",
              "    </tr>\n",
              "    <tr>\n",
              "      <th>max</th>\n",
              "      <td>300.000000</td>\n",
              "    </tr>\n",
              "  </tbody>\n",
              "</table>\n",
              "</div>"
            ],
            "text/plain": [
              "                  0\n",
              "count  15428.000000\n",
              "mean      96.666710\n",
              "std       55.848488\n",
              "min        7.000000\n",
              "25%       53.000000\n",
              "50%       86.000000\n",
              "75%      129.000000\n",
              "max      300.000000"
            ]
          },
          "metadata": {
            "tags": []
          },
          "execution_count": 8
        }
      ]
    },
    {
      "cell_type": "code",
      "metadata": {
        "colab": {
          "base_uri": "https://localhost:8080/"
        },
        "id": "76hZ3KRuGn96",
        "outputId": "67783831-0a86-47b0-d041-165dc6c4cdab"
      },
      "source": [
        "#Calculate number of unique words\n",
        "words_list = []\n",
        "for value in df_train.Input.str.split(' '):\n",
        "    words_list.extend(value)\n",
        "count_words = Counter(words_list)\n",
        "len(count_words)"
      ],
      "execution_count": 9,
      "outputs": [
        {
          "output_type": "execute_result",
          "data": {
            "text/plain": [
              "14917"
            ]
          },
          "metadata": {
            "tags": []
          },
          "execution_count": 9
        }
      ]
    },
    {
      "cell_type": "markdown",
      "metadata": {
        "id": "4uACC58oH1pu"
      },
      "source": [
        "With that information, we will go with 120 sentence length and 15000 vocabulary size"
      ]
    },
    {
      "cell_type": "code",
      "metadata": {
        "id": "fHyVM6uVHrm8"
      },
      "source": [
        "VOCABULARY_SIZE = 15000\n",
        "EMBEDDING_DIM = 32\n",
        "MAX_LENGTH = 120\n",
        "PADDING_TYPE = \"post\"\n",
        "TRUNC_TYPE = \"post\""
      ],
      "execution_count": 10,
      "outputs": []
    },
    {
      "cell_type": "code",
      "metadata": {
        "id": "6Ds0aA3bIIDK"
      },
      "source": [
        "tokenizer = Tokenizer(num_words = VOCABULARY_SIZE)\n",
        "tokenizer.fit_on_texts(x_train)\n",
        "word_index = tokenizer.word_index"
      ],
      "execution_count": 11,
      "outputs": []
    },
    {
      "cell_type": "code",
      "metadata": {
        "id": "ZY7sx5ccIJ_4"
      },
      "source": [
        "#Tokenize data\n",
        "x_train_tkn=tokenizer.texts_to_sequences(x_train)\n",
        "x_train_pad = tf.keras.preprocessing.sequence.pad_sequences(x_train_tkn, maxlen = MAX_LENGTH, padding = PADDING_TYPE, truncating = TRUNC_TYPE)\n",
        "\n",
        "x_val_tkn=tokenizer.texts_to_sequences(x_val)\n",
        "x_val_pad = tf.keras.preprocessing.sequence.pad_sequences(x_val_tkn, maxlen = MAX_LENGTH, padding = PADDING_TYPE, truncating = TRUNC_TYPE)\n",
        "\n",
        "x_test_tkn=tokenizer.texts_to_sequences(x_test)\n",
        "x_test_pad = tf.keras.preprocessing.sequence.pad_sequences(x_test_tkn, maxlen = MAX_LENGTH, padding = PADDING_TYPE, truncating = TRUNC_TYPE)"
      ],
      "execution_count": 12,
      "outputs": []
    },
    {
      "cell_type": "code",
      "metadata": {
        "colab": {
          "base_uri": "https://localhost:8080/"
        },
        "id": "m7gNMHNnFF4o",
        "outputId": "612b22a0-a445-4e5e-b468-b542b6413a2c"
      },
      "source": [
        "x_test_pad"
      ],
      "execution_count": 13,
      "outputs": [
        {
          "output_type": "execute_result",
          "data": {
            "text/plain": [
              "array([[   16,     7,   201, ...,     0,     0,     0],\n",
              "       [   16, 12526,    10, ...,     0,     0,     0],\n",
              "       [    1,   142,    78, ...,     0,     0,     0],\n",
              "       ...,\n",
              "       [    1,     2,     8, ...,     0,     0,     0],\n",
              "       [   16,     7,    37, ...,     0,     0,     0],\n",
              "       [    1,     2,    35, ...,     0,     0,     0]], dtype=int32)"
            ]
          },
          "metadata": {
            "tags": []
          },
          "execution_count": 13
        }
      ]
    },
    {
      "cell_type": "markdown",
      "metadata": {
        "id": "O75tQJloIXzy"
      },
      "source": [
        "**CREATE MODEL**"
      ]
    },
    {
      "cell_type": "code",
      "metadata": {
        "colab": {
          "base_uri": "https://localhost:8080/"
        },
        "id": "mqiu0wEqIXcg",
        "outputId": "23528313-e797-4fb9-b3cd-c1d9397e5dc6"
      },
      "source": [
        "model2= tf.keras.Sequential()\n",
        "model2.add(tf.keras.layers.Embedding(VOCABULARY_SIZE, EMBEDDING_DIM, input_length = MAX_LENGTH))\n",
        "model2.add(tf.keras.layers.Bidirectional(tf.keras.layers.LSTM(120, return_sequences=True)))\n",
        "model2.add(tf.keras.layers.Bidirectional(tf.keras.layers.LSTM(240)))\n",
        "model2.add(tf.keras.layers.Dense(64, activation='relu'))\n",
        "model2.add(tf.keras.layers.Dropout(0.5))\n",
        "model2.add(tf.keras.layers.Dense(5, activation= 'softmax'))\n",
        "print(model2.summary())"
      ],
      "execution_count": 14,
      "outputs": [
        {
          "output_type": "stream",
          "text": [
            "Model: \"sequential\"\n",
            "_________________________________________________________________\n",
            "Layer (type)                 Output Shape              Param #   \n",
            "=================================================================\n",
            "embedding (Embedding)        (None, 120, 32)           480000    \n",
            "_________________________________________________________________\n",
            "bidirectional (Bidirectional (None, 120, 240)          146880    \n",
            "_________________________________________________________________\n",
            "bidirectional_1 (Bidirection (None, 480)               923520    \n",
            "_________________________________________________________________\n",
            "dense (Dense)                (None, 64)                30784     \n",
            "_________________________________________________________________\n",
            "dropout (Dropout)            (None, 64)                0         \n",
            "_________________________________________________________________\n",
            "dense_1 (Dense)              (None, 5)                 325       \n",
            "=================================================================\n",
            "Total params: 1,581,509\n",
            "Trainable params: 1,581,509\n",
            "Non-trainable params: 0\n",
            "_________________________________________________________________\n",
            "None\n"
          ],
          "name": "stdout"
        }
      ]
    },
    {
      "cell_type": "code",
      "metadata": {
        "id": "6URARvgZIgNh"
      },
      "source": [
        "model2.compile(loss=tf.keras.losses.SparseCategoricalCrossentropy(from_logits=False),\n",
        "              optimizer=tf.keras.optimizers.Adam(1e-3),\n",
        "              metrics=['accuracy'])"
      ],
      "execution_count": 15,
      "outputs": []
    },
    {
      "cell_type": "code",
      "metadata": {
        "id": "PD_k1xlZpLO5"
      },
      "source": [
        "checkpoint_filepath = '../gdrive/MyDrive/emotion_detection/cp.ckpt\"'\n",
        "model_checkpoint_callback = tf.keras.callbacks.ModelCheckpoint(\n",
        "    filepath=checkpoint_filepath,\n",
        "    save_weights_only=True,\n",
        "    monitor='val_accuracy',\n",
        "    mode='max',\n",
        "    save_best_only=True)"
      ],
      "execution_count": 16,
      "outputs": []
    },
    {
      "cell_type": "code",
      "metadata": {
        "id": "pvqfBbqBxjkr"
      },
      "source": [
        "model2.save_weights(checkpoint_filepath.format(epoch=0))"
      ],
      "execution_count": 17,
      "outputs": []
    },
    {
      "cell_type": "code",
      "metadata": {
        "colab": {
          "base_uri": "https://localhost:8080/"
        },
        "id": "BVrUgzkDIlaZ",
        "outputId": "c28ea88f-ee14-4111-bf97-13f4df778bc6"
      },
      "source": [
        "history2 = model2.fit(x_train_pad, y_train, epochs=15, validation_data=(x_val_pad, y_val), validation_steps=30, callbacks=[model_checkpoint_callback])"
      ],
      "execution_count": 18,
      "outputs": [
        {
          "output_type": "stream",
          "text": [
            "Epoch 1/15\n",
            "483/483 [==============================] - 28s 35ms/step - loss: 1.1587 - accuracy: 0.5323 - val_loss: 0.8044 - val_accuracy: 0.7056\n",
            "Epoch 2/15\n",
            "483/483 [==============================] - 16s 33ms/step - loss: 0.4269 - accuracy: 0.8541 - val_loss: 0.2738 - val_accuracy: 0.9098\n",
            "Epoch 3/15\n",
            "483/483 [==============================] - 16s 34ms/step - loss: 0.1994 - accuracy: 0.9380 - val_loss: 0.2139 - val_accuracy: 0.9239\n",
            "Epoch 4/15\n",
            "483/483 [==============================] - 16s 34ms/step - loss: 0.1267 - accuracy: 0.9596 - val_loss: 0.2021 - val_accuracy: 0.9328\n",
            "Epoch 5/15\n",
            "483/483 [==============================] - 16s 33ms/step - loss: 0.0983 - accuracy: 0.9669 - val_loss: 0.2623 - val_accuracy: 0.9260\n",
            "Epoch 6/15\n",
            "483/483 [==============================] - 16s 33ms/step - loss: 0.0672 - accuracy: 0.9785 - val_loss: 0.2094 - val_accuracy: 0.9343\n",
            "Epoch 7/15\n",
            "483/483 [==============================] - 16s 34ms/step - loss: 0.0516 - accuracy: 0.9828 - val_loss: 0.2123 - val_accuracy: 0.9354\n",
            "Epoch 8/15\n",
            "483/483 [==============================] - 16s 33ms/step - loss: 0.0556 - accuracy: 0.9819 - val_loss: 0.2470 - val_accuracy: 0.9343\n",
            "Epoch 9/15\n",
            "483/483 [==============================] - 16s 34ms/step - loss: 0.0418 - accuracy: 0.9869 - val_loss: 0.2735 - val_accuracy: 0.9333\n",
            "Epoch 10/15\n",
            "483/483 [==============================] - 16s 33ms/step - loss: 0.0400 - accuracy: 0.9881 - val_loss: 0.2399 - val_accuracy: 0.9401\n",
            "Epoch 11/15\n",
            "483/483 [==============================] - 16s 33ms/step - loss: 0.0316 - accuracy: 0.9901 - val_loss: 0.3066 - val_accuracy: 0.9338\n",
            "Epoch 12/15\n",
            "483/483 [==============================] - 16s 32ms/step - loss: 0.0284 - accuracy: 0.9907 - val_loss: 0.2894 - val_accuracy: 0.9385\n",
            "Epoch 13/15\n",
            "483/483 [==============================] - 16s 33ms/step - loss: 0.0279 - accuracy: 0.9894 - val_loss: 0.3082 - val_accuracy: 0.9286\n",
            "Epoch 14/15\n",
            "483/483 [==============================] - 17s 35ms/step - loss: 0.0360 - accuracy: 0.9892 - val_loss: 0.2291 - val_accuracy: 0.9396\n",
            "Epoch 15/15\n",
            "483/483 [==============================] - 16s 34ms/step - loss: 0.0208 - accuracy: 0.9931 - val_loss: 0.3314 - val_accuracy: 0.9385\n"
          ],
          "name": "stdout"
        }
      ]
    },
    {
      "cell_type": "code",
      "metadata": {
        "id": "7Tf8XqixInWg"
      },
      "source": [
        "def plot_graphs(history, metric):\n",
        "  plt.plot(history.history[metric])\n",
        "  plt.plot(history.history['val_'+metric], '')\n",
        "  plt.xlabel(\"Epochs\")\n",
        "  plt.ylabel(metric)\n",
        "  plt.legend([metric, 'val_'+metric])"
      ],
      "execution_count": 19,
      "outputs": []
    },
    {
      "cell_type": "code",
      "metadata": {
        "colab": {
          "base_uri": "https://localhost:8080/",
          "height": 519
        },
        "id": "Y9_gU4pTM7Gg",
        "outputId": "4d6c95fd-94f6-4eb9-a694-04f7e951022a"
      },
      "source": [
        "plt.figure(figsize=(16, 8))\n",
        "plt.subplot(1, 2, 1)\n",
        "plot_graphs(history2, 'accuracy')\n",
        "plt.ylim(None, 1)\n",
        "plt.subplot(1, 2, 2)\n",
        "plot_graphs(history2, 'loss')\n",
        "plt.ylim(0, None)"
      ],
      "execution_count": 20,
      "outputs": [
        {
          "output_type": "execute_result",
          "data": {
            "text/plain": [
              "(0.0, 1.2156142481602727)"
            ]
          },
          "metadata": {
            "tags": []
          },
          "execution_count": 20
        },
        {
          "output_type": "display_data",
          "data": {
            "image/png": "[encoded data removed]",
            "text/plain": [
              "<Figure size 1152x576 with 2 Axes>"
            ]
          },
          "metadata": {
            "tags": [],
            "needs_background": "light"
          }
        }
      ]
    },
    {
      "cell_type": "code",
      "metadata": {
        "colab": {
          "base_uri": "https://localhost:8080/"
        },
        "id": "XxoxvHCvM8qI",
        "outputId": "d5a54979-b82f-4a13-a359-f20f3688ef43"
      },
      "source": [
        "model2.evaluate(x_test_pad,y_test)"
      ],
      "execution_count": 21,
      "outputs": [
        {
          "output_type": "stream",
          "text": [
            "61/61 [==============================] - 1s 12ms/step - loss: 0.3238 - accuracy: 0.9354\n"
          ],
          "name": "stdout"
        },
        {
          "output_type": "execute_result",
          "data": {
            "text/plain": [
              "[0.32375529408454895, 0.9353671073913574]"
            ]
          },
          "metadata": {
            "tags": []
          },
          "execution_count": 21
        }
      ]
    },
    {
      "cell_type": "code",
      "metadata": {
        "id": "eEpQhjGhND7H"
      },
      "source": [
        "y_pred=(model2.predict(x_test_pad) > 0.5).astype(\"int32\")\n",
        "#To Label Encoding\n",
        "y_pred = np.argmax(y_pred, axis =-1)\n",
        "prediction = pd.DataFrame(data=y_pred, columns=['prediction'])"
      ],
      "execution_count": 22,
      "outputs": []
    },
    {
      "cell_type": "code",
      "metadata": {
        "colab": {
          "base_uri": "https://localhost:8080/",
          "height": 422
        },
        "id": "-BLpbJCNNGBn",
        "outputId": "b441d008-d91e-4f17-dd4d-567dd62ac359"
      },
      "source": [
        "actual = y_test.to_frame()\n",
        "actual['actual'] = actual['sent_cat']\n",
        "\n",
        "check_result = actual.join(prediction, how='left')\n",
        "check_result['sent_cat'] = check_result.sent_cat.replace({0:'joy',1:'anger',2:'love',3:'sadness',4:'fear'})\n",
        "check_result"
      ],
      "execution_count": 23,
      "outputs": [
        {
          "output_type": "execute_result",
          "data": {
            "text/html": [
              "<div>\n",
              "<style scoped>\n",
              "    .dataframe tbody tr th:only-of-type {\n",
              "        vertical-align: middle;\n",
              "    }\n",
              "\n",
              "    .dataframe tbody tr th {\n",
              "        vertical-align: top;\n",
              "    }\n",
              "\n",
              "    .dataframe thead th {\n",
              "        text-align: right;\n",
              "    }\n",
              "</style>\n",
              "<table border=\"1\" class=\"dataframe\">\n",
              "  <thead>\n",
              "    <tr style=\"text-align: right;\">\n",
              "      <th></th>\n",
              "      <th>sent_cat</th>\n",
              "      <th>actual</th>\n",
              "      <th>prediction</th>\n",
              "    </tr>\n",
              "  </thead>\n",
              "  <tbody>\n",
              "    <tr>\n",
              "      <th>0</th>\n",
              "      <td>sadness</td>\n",
              "      <td>3</td>\n",
              "      <td>3</td>\n",
              "    </tr>\n",
              "    <tr>\n",
              "      <th>1</th>\n",
              "      <td>sadness</td>\n",
              "      <td>3</td>\n",
              "      <td>3</td>\n",
              "    </tr>\n",
              "    <tr>\n",
              "      <th>2</th>\n",
              "      <td>sadness</td>\n",
              "      <td>3</td>\n",
              "      <td>3</td>\n",
              "    </tr>\n",
              "    <tr>\n",
              "      <th>3</th>\n",
              "      <td>joy</td>\n",
              "      <td>0</td>\n",
              "      <td>0</td>\n",
              "    </tr>\n",
              "    <tr>\n",
              "      <th>4</th>\n",
              "      <td>sadness</td>\n",
              "      <td>3</td>\n",
              "      <td>3</td>\n",
              "    </tr>\n",
              "    <tr>\n",
              "      <th>...</th>\n",
              "      <td>...</td>\n",
              "      <td>...</td>\n",
              "      <td>...</td>\n",
              "    </tr>\n",
              "    <tr>\n",
              "      <th>1929</th>\n",
              "      <td>anger</td>\n",
              "      <td>1</td>\n",
              "      <td>1</td>\n",
              "    </tr>\n",
              "    <tr>\n",
              "      <th>1930</th>\n",
              "      <td>anger</td>\n",
              "      <td>1</td>\n",
              "      <td>1</td>\n",
              "    </tr>\n",
              "    <tr>\n",
              "      <th>1931</th>\n",
              "      <td>joy</td>\n",
              "      <td>0</td>\n",
              "      <td>0</td>\n",
              "    </tr>\n",
              "    <tr>\n",
              "      <th>1932</th>\n",
              "      <td>joy</td>\n",
              "      <td>0</td>\n",
              "      <td>0</td>\n",
              "    </tr>\n",
              "    <tr>\n",
              "      <th>1933</th>\n",
              "      <td>fear</td>\n",
              "      <td>4</td>\n",
              "      <td>4</td>\n",
              "    </tr>\n",
              "  </tbody>\n",
              "</table>\n",
              "<p>1934 rows × 3 columns</p>\n",
              "</div>"
            ],
            "text/plain": [
              "     sent_cat  actual  prediction\n",
              "0     sadness       3           3\n",
              "1     sadness       3           3\n",
              "2     sadness       3           3\n",
              "3         joy       0           0\n",
              "4     sadness       3           3\n",
              "...       ...     ...         ...\n",
              "1929    anger       1           1\n",
              "1930    anger       1           1\n",
              "1931      joy       0           0\n",
              "1932      joy       0           0\n",
              "1933     fear       4           4\n",
              "\n",
              "[1934 rows x 3 columns]"
            ]
          },
          "metadata": {
            "tags": []
          },
          "execution_count": 23
        }
      ]
    },
    {
      "cell_type": "code",
      "metadata": {
        "colab": {
          "base_uri": "https://localhost:8080/",
          "height": 283
        },
        "id": "LIN1UHF6NW2v",
        "outputId": "2982a5e6-8ebe-4bf0-d188-46112da1be26"
      },
      "source": [
        "confusion_matrix = pd.crosstab(check_result['actual'], check_result['prediction'], rownames=['Actual'], colnames=['Predicted'], margins = True)\n",
        "\n",
        "sn.heatmap(confusion_matrix, annot=True, vmin=0, vmax=1000)\n",
        "plt.show()"
      ],
      "execution_count": 24,
      "outputs": [
        {
          "output_type": "display_data",
          "data": {
            "image/png": "[encoded data removed]",
            "text/plain": [
              "<Figure size 432x288 with 2 Axes>"
            ]
          },
          "metadata": {
            "tags": [],
            "needs_background": "light"
          }
        }
      ]
    },
    {
      "cell_type": "markdown",
      "metadata": {
        "id": "w8-IheX8b_sC"
      },
      "source": [
        "**SAVE TOKENIZER AND MODEL**"
      ]
    },
    {
      "cell_type": "code",
      "metadata": {
        "id": "LYHOwCsUqofV"
      },
      "source": [
        "#Tokenizer\n",
        "with open('tokenizer.pickle', 'wb') as handle:\n",
        "    pickle.dump(tokenizer, handle, protocol=pickle.HIGHEST_PROTOCOL)"
      ],
      "execution_count": 25,
      "outputs": []
    },
    {
      "cell_type": "code",
      "metadata": {
        "id": "GkBpd1iicHAY"
      },
      "source": [
        "#Model\n",
        "model2.save('../gdrive/MyDrive/emotion_detection/my_model.h5')"
      ],
      "execution_count": 26,
      "outputs": []
    },
    {
      "cell_type": "markdown",
      "metadata": {
        "id": "wDtezL6_B712"
      },
      "source": [
        "**RE-RUN FROM SAVED TOKENIZER AND MODEL**"
      ]
    },
    {
      "cell_type": "code",
      "metadata": {
        "id": "qHyaktYiCFaY"
      },
      "source": [
        "#Load Tokenizer\n",
        "tokenizer_path = '../gdrive/MyDrive/emotion_detection/tokenizer.pickle'\n",
        "with open(tokenizer_path, 'rb') as handle:\n",
        "    tokenizer_rerun = pickle.load(handle)"
      ],
      "execution_count": 27,
      "outputs": []
    },
    {
      "cell_type": "code",
      "metadata": {
        "id": "-HBSECmitnOd",
        "colab": {
          "base_uri": "https://localhost:8080/"
        },
        "outputId": "712488da-39ee-4cad-fdbc-2f025cb3f670"
      },
      "source": [
        "#Load Model checkpoint\n",
        "\n",
        "model_rerun= tf.keras.models.load_model('../gdrive/MyDrive/emotion_detection/my_model.h5')\n",
        "\n",
        "model_rerun.summary()"
      ],
      "execution_count": 28,
      "outputs": [
        {
          "output_type": "stream",
          "text": [
            "Model: \"sequential\"\n",
            "_________________________________________________________________\n",
            "Layer (type)                 Output Shape              Param #   \n",
            "=================================================================\n",
            "embedding (Embedding)        (None, 120, 32)           480000    \n",
            "_________________________________________________________________\n",
            "bidirectional (Bidirectional (None, 120, 240)          146880    \n",
            "_________________________________________________________________\n",
            "bidirectional_1 (Bidirection (None, 480)               923520    \n",
            "_________________________________________________________________\n",
            "dense (Dense)                (None, 64)                30784     \n",
            "_________________________________________________________________\n",
            "dropout (Dropout)            (None, 64)                0         \n",
            "_________________________________________________________________\n",
            "dense_1 (Dense)              (None, 5)                 325       \n",
            "=================================================================\n",
            "Total params: 1,581,509\n",
            "Trainable params: 1,581,509\n",
            "Non-trainable params: 0\n",
            "_________________________________________________________________\n"
          ],
          "name": "stdout"
        }
      ]
    },
    {
      "cell_type": "code",
      "metadata": {
        "colab": {
          "base_uri": "https://localhost:8080/"
        },
        "id": "YtkEj7CjBJxM",
        "outputId": "cf1ff1e9-8944-4d6d-aa51-5a22288c7d9d"
      },
      "source": [
        "#Retest\n",
        "x_test_tkn=tokenizer_rerun.texts_to_sequences(x_test)\n",
        "x_test_pad = tf.keras.preprocessing.sequence.pad_sequences(x_test_tkn, maxlen = 120, padding = 'post', truncating = 'post')\n",
        "\n",
        "model_rerun.evaluate(x_test_pad,y_test)"
      ],
      "execution_count": 29,
      "outputs": [
        {
          "output_type": "stream",
          "text": [
            "61/61 [==============================] - 2s 14ms/step - loss: 0.3238 - accuracy: 0.9354\n"
          ],
          "name": "stdout"
        },
        {
          "output_type": "execute_result",
          "data": {
            "text/plain": [
              "[0.32375529408454895, 0.9353671073913574]"
            ]
          },
          "metadata": {
            "tags": []
          },
          "execution_count": 29
        }
      ]
    },
    {
      "cell_type": "code",
      "metadata": {
        "id": "XASSND5tm1bB"
      },
      "source": [
        "#Emotion Response\n",
        "\n",
        "joy = [\"If you happy and you know it clap your hand! *clap* *clap* *clap*\", \n",
        "       \"Good thing that I wear sunglasses. Because you look so bright! B)\",\n",
        "       \"So happy for you! Don't forget to spread your happiness to others!\"]\n",
        "    \n",
        "sadness = [\"It may sound even sadder, but an act of fake smiling can actually lift the mood.\",\n",
        "           \"Every cloud has a silver lining. It is not a easy to be patient, but try it and good things will eventually come.\",\n",
        "           \"It's always darkest before the dawn. I know it is hard, but try your best.\"]\n",
        "    \n",
        "anger = [\"Sometimes anger is an effective solution. But most of the time, it isn't. Calm down, take a deep breath.\",\n",
        "         \"If you are standing now, sit down for a while. If you are still angry after that, lay down for a while, take a deep breath.\",\n",
        "         \"Forgive, when someone/something makes a mistake. Like we want to be forgiven when we make a mistake.\"]\n",
        "    \n",
        "love = [\"Uuuu looks like someone is in love <3\",\n",
        "        \"Are you having a fever? Your face is all red *smirk :)\",\n",
        "        \"No wonder you are giggling all day!\"]\n",
        "    \n",
        "fear = [\"I can hear how scared you are. Try to reach someone close to you.\",\n",
        "        \"It is normal to be afraid, try to reach someone close to you.\",\n",
        "        \"It sounds hard. Try to reach someone close to you. Or try to do something else to free your mind from what bothers you.\"]\n",
        "    \n",
        "emotional_response = {\"joy\" : joy, \"sadness\":sadness, \"anger\": anger, \"love\": love, \"fear\": fear}"
      ],
      "execution_count": 30,
      "outputs": []
    },
    {
      "cell_type": "code",
      "metadata": {
        "colab": {
          "base_uri": "https://localhost:8080/"
        },
        "id": "oJ5-ok0Hp0hN",
        "outputId": "61f4e3ce-f2d5-49e2-d58e-06bf81e70a34"
      },
      "source": [
        "test= np.random.randint(0,3)\n",
        "test"
      ],
      "execution_count": 44,
      "outputs": [
        {
          "output_type": "execute_result",
          "data": {
            "text/plain": [
              "0"
            ]
          },
          "metadata": {
            "tags": []
          },
          "execution_count": 44
        }
      ]
    },
    {
      "cell_type": "code",
      "metadata": {
        "id": "7ZTKjAOjDpoy"
      },
      "source": [
        "#Test Tokenizer\n",
        "sample_text = \"I am feeling so happy today\"\n",
        "sample_series = pd.Series(sample_text)\n",
        "sample_tkn= tokenizer_rerun.texts_to_sequences(sample_series)\n",
        "sample_pad = tf.keras.preprocessing.sequence.pad_sequences(sample_tkn, maxlen = 120, padding = \"post\", truncating = \"post\")\n",
        "sample_pred=(model_rerun.predict(sample_pad) > 0.5).astype(\"int32\")"
      ],
      "execution_count": 45,
      "outputs": []
    },
    {
      "cell_type": "code",
      "metadata": {
        "colab": {
          "base_uri": "https://localhost:8080/",
          "height": 35
        },
        "id": "hBNJXXrsEXGU",
        "outputId": "ae50a9b7-5c57-46c5-9ef8-7728a4357854"
      },
      "source": [
        "#To Label Encoding\n",
        "sample_pred = np.argmax(sample_pred, axis =-1)\n",
        "prediction_sample = pd.DataFrame(data=sample_pred, columns=['prediction'])\n",
        "prediction_sample['emotion'] = prediction_sample.prediction.replace({0:'joy',1:'anger',2:'love',3:'sadness',4:'fear'})\n",
        "predicted_emo = prediction_sample.emotion[0]\n",
        "predicted_emo"
      ],
      "execution_count": 47,
      "outputs": [
        {
          "output_type": "execute_result",
          "data": {
            "application/vnd.google.colaboratory.intrinsic+json": {
              "type": "string"
            },
            "text/plain": [
              "'joy'"
            ]
          },
          "metadata": {
            "tags": []
          },
          "execution_count": 47
        }
      ]
    },
    {
      "cell_type": "code",
      "metadata": {
        "colab": {
          "base_uri": "https://localhost:8080/",
          "height": 35
        },
        "id": "noSTYWSZEvE8",
        "outputId": "3a7101ac-9a23-4850-d822-333604460d05"
      },
      "source": [
        "#Response\n",
        "index = np.random.randint(0,3)\n",
        "response = emotional_response[predicted_emo][index]\n",
        "response\n"
      ],
      "execution_count": 48,
      "outputs": [
        {
          "output_type": "execute_result",
          "data": {
            "application/vnd.google.colaboratory.intrinsic+json": {
              "type": "string"
            },
            "text/plain": [
              "'Good thing that I wear sunglasses. Because you look so bright! B)'"
            ]
          },
          "metadata": {
            "tags": []
          },
          "execution_count": 48
        }
      ]
    },
    {
      "cell_type": "code",
      "metadata": {
        "id": "VWWJKxTBE3SU"
      },
      "source": [
        ""
      ],
      "execution_count": null,
      "outputs": []
    }
  ]
}